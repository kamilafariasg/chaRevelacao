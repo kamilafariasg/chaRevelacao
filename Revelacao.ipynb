{
  "cells": [
    {
      "cell_type": "markdown",
      "metadata": {
        "id": "view-in-github",
        "colab_type": "text"
      },
      "source": [
        "<a href=\"https://colab.research.google.com/github/kamilafariasg/chaRevelacao/blob/main/Revelacao.ipynb\" target=\"_parent\"><img src=\"https://colab.research.google.com/assets/colab-badge.svg\" alt=\"Open In Colab\"/></a>"
      ]
    },
    {
      "cell_type": "code",
      "execution_count": null,
      "metadata": {
        "colab": {
          "base_uri": "https://localhost:8080/"
        },
        "id": "O7aWHCZp4986",
        "outputId": "4595cbb4-9133-44ad-831b-0423ebdab073"
      },
      "outputs": [
        {
          "output_type": "stream",
          "name": "stdout",
          "text": [
            "Bem-vindo ao Jogo da Velha - Chá Revelação!\n",
            "Escolha um número de 1 a 9 para revelar o gênero do bebê.\n",
            "  |   |  \n",
            "-----------------\n",
            "  |   |  \n",
            "-----------------\n",
            "  |   |  \n",
            "-----------------\n",
            "Escolha um número de 1 a 9: 8\n",
            "  |   |  \n",
            "-----------------\n",
            "  |   |  \n",
            "-----------------\n",
            "  | 👶 |  \n",
            "-----------------\n",
            "Escolha um número de 1 a 9: 1\n",
            "👶 |   |  \n",
            "-----------------\n",
            "  |   |  \n",
            "-----------------\n",
            "  | 👶 |  \n",
            "-----------------\n",
            "Escolha um número de 1 a 9: 2\n",
            "👶 | 👶 |  \n",
            "-----------------\n",
            "  |   |  \n",
            "-----------------\n",
            "  | 👶 |  \n",
            "-----------------\n",
            "Escolha um número de 1 a 9: 3\n",
            "👶 | 👶 | 👑\n",
            "-----------------\n",
            "  |   |  \n",
            "-----------------\n",
            "  | 👶 |  \n",
            "-----------------\n",
            "Escolha um número de 1 a 9: 8\n",
            "Número já escolhido ou inválido. Escolha novamente.\n",
            "👶 | 👶 | 👑\n",
            "-----------------\n",
            "  |   |  \n",
            "-----------------\n",
            "  | 👶 |  \n",
            "-----------------\n",
            "Escolha um número de 1 a 9: 5\n",
            "👶 | 👶 | 👑\n",
            "-----------------\n",
            "  | 🎀 |  \n",
            "-----------------\n",
            "  | 👶 |  \n",
            "-----------------\n",
            "Escolha um número de 1 a 9: 7\n",
            "👶 | 👶 | 👑\n",
            "-----------------\n",
            "  | 🎀 |  \n",
            "-----------------\n",
            "👶 | 👶 |  \n",
            "-----------------\n",
            "Escolha um número de 1 a 9: 4\n",
            "👶 | 👶 | 👑\n",
            "-----------------\n",
            "🎀 | 🎀 |  \n",
            "-----------------\n",
            "👶 | 👶 |  \n",
            "-----------------\n",
            "Escolha um número de 1 a 9: 6\n",
            "👶 | 👶 | 👑\n",
            "-----------------\n",
            "🎀 | 🎀 | 👑\n",
            "-----------------\n",
            "👶 | 👶 |  \n",
            "-----------------\n",
            "Escolha um número de 1 a 9: 9\n",
            "👶 | 👶 | 👑\n",
            "-----------------\n",
            "🎀 | 🎀 | 👑\n",
            "-----------------\n",
            "👶 | 👶 | 👑\n",
            "-----------------\n",
            "                           \n",
            "                              \n",
            "🤴💖 Oi, eu sou o João Heitor!🤴💖\n",
            "                              \n",
            "                              \n"
          ]
        }
      ],
      "source": [
        "import random\n",
        "\n",
        "def imprimir_tabuleiro(tabuleiro):\n",
        "    for linha in tabuleiro:\n",
        "        print(\" | \".join(linha))\n",
        "        print(\"-\" * 17)\n",
        "\n",
        "def jogo_da_velha_cha_revelacao():\n",
        "    tabuleiro = [[\" \" for _ in range(3)] for _ in range(3)]\n",
        "\n",
        "\n",
        "    print(\"Bem-vindo ao Jogo da Velha - Chá Revelação!\")\n",
        "    print(\"Escolha um número de 1 a 9 para revelar o gênero do bebê.\")\n",
        "\n",
        "    escolhas = set()\n",
        "\n",
        "    p = [3, 6, 9]\n",
        "\n",
        "    while True:\n",
        "        imprimir_tabuleiro(tabuleiro)\n",
        "\n",
        "        escolha = int(input(\"Escolha um número de 1 a 9: \"))\n",
        "\n",
        "        if escolha not in escolhas and 1 <= escolha <= 9:\n",
        "\n",
        "            if escolha in p:\n",
        "                tabuleiro[(escolha - 1) // 3][(escolha - 1) % 3] = \"👑\"\n",
        "            else:\n",
        "                tabuleiro[(escolha - 1) // 3][(escolha - 1) % 3] = random.choice([\"🎀\", \"🍼\", \"👶\" ])\n",
        "\n",
        "\n",
        "            escolhas.add(escolha)\n",
        "\n",
        "\n",
        "            if set(p).issubset(escolhas):\n",
        "                imprimir_tabuleiro(tabuleiro)\n",
        "                print(\"                           \")\n",
        "                print(\"                              \")\n",
        "                print(\"🤴💖 Oi, eu sou o João Heitor!🤴💖\")\n",
        "                print(\"                              \")\n",
        "                print(\"                              \")\n",
        "                break\n",
        "\n",
        "            if False:\n",
        "                print(\"                              \")\n",
        "                print(\"                              \")\n",
        "                print(\"🎀💖 Oi, eu sou a Ana Laura!🎀💖\")\n",
        "                print(\"                              \")\n",
        "                print(\"                              \")\n",
        "\n",
        "\n",
        "        else:\n",
        "            print(\"Número já escolhido ou inválido. Escolha novamente.\")\n",
        "\n",
        "if __name__ == \"__main__\":\n",
        "    jogo_da_velha_cha_revelacao()"
      ]
    },
    {
      "cell_type": "markdown",
      "metadata": {
        "id": "iTnvluK0uivU"
      },
      "source": [
        "123"
      ]
    },
    {
      "cell_type": "markdown",
      "metadata": {
        "id": "5-bzTxud6CU0"
      },
      "source": [
        "#**Oi,**\n",
        "###titios, titias, vovô, amigos e quem mais tiver curiosidade de nos conhecer. Estamos bem perto de sermos revelados. Mas para tornar esse momento mais divertido, mamãe resolveu propor um jogo com vocês!\n",
        "\n",
        "###O jogo é uma adaptação do jogo da velha convencional que conhecemos, ao final seremos revelados.\n",
        "\n"
      ]
    },
    {
      "cell_type": "markdown",
      "metadata": {
        "id": "o838zuYi6wm5"
      },
      "source": [
        "# Então, vamos começar...\n",
        "\n",
        "Para que o jogo seja iniciado, clique na setinha de carregamento logo abaixo. Atentem-se:\n",
        "\n",
        "\n",
        "*   Caso três laços 🎀 apareçam de forma sequencial, indicará que eu sou uma menina!\n",
        "*   Caso três coroas 👑 apareçam de forma sequencial, indicará que eu sou um menino!"
      ]
    },
    {
      "cell_type": "markdown",
      "metadata": {
        "id": "R2IZwP3s7eib"
      },
      "source": [
        "# Espero que fiquem felizes com a nossa chegada!\n",
        "\n",
        "#Com amor e chutinhos, seus bebês!"
      ]
    },
    {
      "cell_type": "markdown",
      "metadata": {
        "id": "8ot-n5Mm7IqO"
      },
      "source": [
        "# Calma, ainda não acabou...\n",
        "Lembram que somos dois? Então, teremos que jogar novamente...\n"
      ]
    },
    {
      "cell_type": "code",
      "execution_count": null,
      "metadata": {
        "colab": {
          "base_uri": "https://localhost:8080/"
        },
        "id": "ZCsL-WsO7R5c",
        "outputId": "25b9fbe5-fc46-477c-a4af-7b402adc1b34"
      },
      "outputs": [
        {
          "output_type": "stream",
          "name": "stdout",
          "text": [
            "Bem-vindo ao Jogo da Velha - Chá Revelação!\n",
            "Escolha um número de 1 a 9 para revelar sobre o gênero do bebê.\n",
            "  |   |  \n",
            "-----------------\n",
            "  |   |  \n",
            "-----------------\n",
            "  |   |  \n",
            "-----------------\n",
            "Escolha um número de 1 a 9: 1\n",
            "🎀 |   |  \n",
            "-----------------\n",
            "  |   |  \n",
            "-----------------\n",
            "  |   |  \n",
            "-----------------\n",
            "Escolha um número de 1 a 9: 2\n",
            "🎀 | 🎀 |  \n",
            "-----------------\n",
            "  |   |  \n",
            "-----------------\n",
            "  |   |  \n",
            "-----------------\n",
            "Escolha um número de 1 a 9: 3\n",
            "🎀 | 🎀 | 🎀\n",
            "-----------------\n",
            "  |   |  \n",
            "-----------------\n",
            "  |   |  \n",
            "-----------------\n",
            "                       \n",
            "                       \n",
            "🎀💖 Oi, eu sou a Ana Laura!🎀💖\n",
            "                       \n",
            "                       \n"
          ]
        }
      ],
      "source": [
        "import random\n",
        "\n",
        "def imprimir_tabuleiro(tabuleiro):\n",
        "    for linha in tabuleiro:\n",
        "        print(\" | \".join(linha))\n",
        "        print(\"-\" * 17)\n",
        "\n",
        "def jogo_da_velha_cha_revelacao():\n",
        "    tabuleiro = [[\" \" for _ in range(3)] for _ in range(3)]\n",
        "\n",
        "    print(\"Bem-vindo ao Jogo da Velha - Chá Revelação!\")\n",
        "    print(\"Escolha um número de 1 a 9 para revelar sobre o gênero do bebê.\")\n",
        "\n",
        "    escolhas = set()\n",
        "\n",
        "    p = [1, 2, 3]\n",
        "\n",
        "    while True:\n",
        "        imprimir_tabuleiro(tabuleiro)\n",
        "\n",
        "        escolha = int(input(\"Escolha um número de 1 a 9: \"))\n",
        "\n",
        "        if escolha not in escolhas and 1 <= escolha <= 9:\n",
        "\n",
        "            if escolha in p:\n",
        "                tabuleiro[(escolha - 1) // 3][(escolha - 1) % 3] = \"🎀\"\n",
        "            else:\n",
        "\n",
        "                tabuleiro[(escolha - 1) // 3][(escolha - 1) % 3] = random.choice([\"👑\", \"👶\" , \"🍼\"])\n",
        "\n",
        "            escolhas.add(escolha)\n",
        "\n",
        "            if set(p).issubset(escolhas):\n",
        "                imprimir_tabuleiro(tabuleiro)\n",
        "                print(\"                       \")\n",
        "                print(\"                       \")\n",
        "                print(\"🎀💖 Oi, eu sou a Ana Laura!🎀💖\")\n",
        "                print(\"                       \")\n",
        "                print(\"                       \")\n",
        "                break\n",
        "\n",
        "            if False:\n",
        "                print(\"                       \")\n",
        "                print(\"                       \")\n",
        "                print(\"Oi, eu sou João Heitor!💖\")\n",
        "                print(\"                       \")\n",
        "                print(\"                       \")\n",
        "\n",
        "        else:\n",
        "            print(\"Número já escolhido ou inválido. Escolha novamente.\")\n",
        "\n",
        "if __name__ == \"__main__\":\n",
        "    jogo_da_velha_cha_revelacao()"
      ]
    }
  ],
  "metadata": {
    "colab": {
      "provenance": [],
      "toc_visible": true,
      "include_colab_link": true
    },
    "kernelspec": {
      "display_name": "Python 3",
      "name": "python3"
    },
    "language_info": {
      "name": "python"
    }
  },
  "nbformat": 4,
  "nbformat_minor": 0
}